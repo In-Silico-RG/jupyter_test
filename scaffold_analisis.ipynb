import scaffoldgraph as sg
import networkx as nx
import matplotlib.pyplot as plt
from rdkit.Chem import Draw
from rdkit import Chem
from rdkit.Chem import Descriptors
import random
import os
import traceback
